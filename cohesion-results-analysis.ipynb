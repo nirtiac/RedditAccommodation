{
 "cells": [
  {
   "cell_type": "markdown",
   "metadata": {},
   "source": [
    "## For Hockey:"
   ]
  },
  {
   "cell_type": "code",
   "execution_count": 1,
   "metadata": {},
   "outputs": [
    {
     "name": "stdout",
     "output_type": "stream",
     "text": [
      "(648, 6)\n"
     ]
    },
    {
     "data": {
      "text/html": [
       "<div>\n",
       "<style>\n",
       "    .dataframe thead tr:only-child th {\n",
       "        text-align: right;\n",
       "    }\n",
       "\n",
       "    .dataframe thead th {\n",
       "        text-align: left;\n",
       "    }\n",
       "\n",
       "    .dataframe tbody tr th {\n",
       "        vertical-align: top;\n",
       "    }\n",
       "</style>\n",
       "<table border=\"1\" class=\"dataframe\">\n",
       "  <thead>\n",
       "    <tr style=\"text-align: right;\">\n",
       "      <th></th>\n",
       "      <th>subreddit</th>\n",
       "      <th>feature</th>\n",
       "      <th>cohesion_value</th>\n",
       "      <th>oddsratio</th>\n",
       "      <th>pvalue</th>\n",
       "      <th>number_of_turns</th>\n",
       "    </tr>\n",
       "  </thead>\n",
       "  <tbody>\n",
       "    <tr>\n",
       "      <th>0</th>\n",
       "      <td>CollegeRepublicans</td>\n",
       "      <td>pronoun</td>\n",
       "      <td>0.000000</td>\n",
       "      <td>NaN</td>\n",
       "      <td>1.00000</td>\n",
       "      <td>24.0</td>\n",
       "    </tr>\n",
       "    <tr>\n",
       "      <th>1</th>\n",
       "      <td>CollegeRepublicans</td>\n",
       "      <td>ppron</td>\n",
       "      <td>0.000000</td>\n",
       "      <td>1.000000</td>\n",
       "      <td>1.00000</td>\n",
       "      <td>24.0</td>\n",
       "    </tr>\n",
       "    <tr>\n",
       "      <th>2</th>\n",
       "      <td>CollegeRepublicans</td>\n",
       "      <td>i</td>\n",
       "      <td>0.041667</td>\n",
       "      <td>1.181818</td>\n",
       "      <td>1.00000</td>\n",
       "      <td>24.0</td>\n",
       "    </tr>\n",
       "    <tr>\n",
       "      <th>3</th>\n",
       "      <td>CollegeRepublicans</td>\n",
       "      <td>we</td>\n",
       "      <td>0.125000</td>\n",
       "      <td>1.800000</td>\n",
       "      <td>0.53433</td>\n",
       "      <td>24.0</td>\n",
       "    </tr>\n",
       "    <tr>\n",
       "      <th>4</th>\n",
       "      <td>CollegeRepublicans</td>\n",
       "      <td>you</td>\n",
       "      <td>0.041667</td>\n",
       "      <td>1.235294</td>\n",
       "      <td>1.00000</td>\n",
       "      <td>24.0</td>\n",
       "    </tr>\n",
       "  </tbody>\n",
       "</table>\n",
       "</div>"
      ],
      "text/plain": [
       "            subreddit  feature  cohesion_value  oddsratio   pvalue  \\\n",
       "0  CollegeRepublicans  pronoun        0.000000        NaN  1.00000   \n",
       "1  CollegeRepublicans    ppron        0.000000   1.000000  1.00000   \n",
       "2  CollegeRepublicans        i        0.041667   1.181818  1.00000   \n",
       "3  CollegeRepublicans       we        0.125000   1.800000  0.53433   \n",
       "4  CollegeRepublicans      you        0.041667   1.235294  1.00000   \n",
       "\n",
       "   number_of_turns  \n",
       "0             24.0  \n",
       "1             24.0  \n",
       "2             24.0  \n",
       "3             24.0  \n",
       "4             24.0  "
      ]
     },
     "execution_count": 1,
     "metadata": {},
     "output_type": "execute_result"
    }
   ],
   "source": [
    "import pandas as pd\n",
    "\n",
    "pol_path = '/Users/sunyambagga/Desktop/FINAL_COHESION_Hockey_stats_April30_2016_April30_2017.csv'\n",
    "\n",
    "df = pd.read_csv(pol_path)\n",
    "print df.shape\n",
    "df.head()"
   ]
  },
  {
   "cell_type": "code",
   "execution_count": 2,
   "metadata": {},
   "outputs": [
    {
     "data": {
      "text/plain": [
       "subreddit           36\n",
       "feature             18\n",
       "cohesion_value     475\n",
       "oddsratio          559\n",
       "pvalue             493\n",
       "number_of_turns     34\n",
       "dtype: int64"
      ]
     },
     "execution_count": 2,
     "metadata": {},
     "output_type": "execute_result"
    }
   ],
   "source": [
    "df.nunique()"
   ]
  },
  {
   "cell_type": "code",
   "execution_count": 3,
   "metadata": {},
   "outputs": [
    {
     "name": "stdout",
     "output_type": "stream",
     "text": [
      "(35, 6)\n"
     ]
    },
    {
     "data": {
      "text/html": [
       "<div>\n",
       "<style>\n",
       "    .dataframe thead tr:only-child th {\n",
       "        text-align: right;\n",
       "    }\n",
       "\n",
       "    .dataframe thead th {\n",
       "        text-align: left;\n",
       "    }\n",
       "\n",
       "    .dataframe tbody tr th {\n",
       "        vertical-align: top;\n",
       "    }\n",
       "</style>\n",
       "<table border=\"1\" class=\"dataframe\">\n",
       "  <thead>\n",
       "    <tr style=\"text-align: right;\">\n",
       "      <th></th>\n",
       "      <th>subreddit</th>\n",
       "      <th>feature</th>\n",
       "      <th>cohesion_value</th>\n",
       "      <th>oddsratio</th>\n",
       "      <th>pvalue</th>\n",
       "      <th>number_of_turns</th>\n",
       "    </tr>\n",
       "  </thead>\n",
       "  <tbody>\n",
       "    <tr>\n",
       "      <th>41</th>\n",
       "      <td>Postleftanarchism</td>\n",
       "      <td>shehe</td>\n",
       "      <td>0.040724</td>\n",
       "      <td>4.172249</td>\n",
       "      <td>0.032176</td>\n",
       "      <td>221.0</td>\n",
       "    </tr>\n",
       "    <tr>\n",
       "      <th>60</th>\n",
       "      <td>collapse</td>\n",
       "      <td>they</td>\n",
       "      <td>0.047210</td>\n",
       "      <td>2.497079</td>\n",
       "      <td>0.045575</td>\n",
       "      <td>233.0</td>\n",
       "    </tr>\n",
       "    <tr>\n",
       "      <th>93</th>\n",
       "      <td>AnaheimDucks</td>\n",
       "      <td>we</td>\n",
       "      <td>0.110000</td>\n",
       "      <td>2.392405</td>\n",
       "      <td>0.049448</td>\n",
       "      <td>100.0</td>\n",
       "    </tr>\n",
       "    <tr>\n",
       "      <th>111</th>\n",
       "      <td>Coyotes</td>\n",
       "      <td>we</td>\n",
       "      <td>0.037037</td>\n",
       "      <td>3.636719</td>\n",
       "      <td>0.028197</td>\n",
       "      <td>270.0</td>\n",
       "    </tr>\n",
       "    <tr>\n",
       "      <th>113</th>\n",
       "      <td>Coyotes</td>\n",
       "      <td>shehe</td>\n",
       "      <td>0.077778</td>\n",
       "      <td>8.682927</td>\n",
       "      <td>0.000033</td>\n",
       "      <td>270.0</td>\n",
       "    </tr>\n",
       "  </tbody>\n",
       "</table>\n",
       "</div>"
      ],
      "text/plain": [
       "             subreddit feature  cohesion_value  oddsratio    pvalue  \\\n",
       "41   Postleftanarchism   shehe        0.040724   4.172249  0.032176   \n",
       "60            collapse    they        0.047210   2.497079  0.045575   \n",
       "93        AnaheimDucks      we        0.110000   2.392405  0.049448   \n",
       "111            Coyotes      we        0.037037   3.636719  0.028197   \n",
       "113            Coyotes   shehe        0.077778   8.682927  0.000033   \n",
       "\n",
       "     number_of_turns  \n",
       "41             221.0  \n",
       "60             233.0  \n",
       "93             100.0  \n",
       "111            270.0  \n",
       "113            270.0  "
      ]
     },
     "execution_count": 3,
     "metadata": {},
     "output_type": "execute_result"
    }
   ],
   "source": [
    "signif = df.loc[df['pvalue']<0.05]\n",
    "print signif.shape\n",
    "signif.head()"
   ]
  },
  {
   "cell_type": "code",
   "execution_count": 4,
   "metadata": {},
   "outputs": [
    {
     "data": {
      "text/plain": [
       "subreddit          21\n",
       "feature            10\n",
       "cohesion_value     34\n",
       "oddsratio          35\n",
       "pvalue             35\n",
       "number_of_turns    20\n",
       "dtype: int64"
      ]
     },
     "execution_count": 4,
     "metadata": {},
     "output_type": "execute_result"
    }
   ],
   "source": [
    "signif.nunique()"
   ]
  },
  {
   "cell_type": "code",
   "execution_count": 5,
   "metadata": {},
   "outputs": [
    {
     "data": {
      "text/plain": [
       "shehe      15\n",
       "we          8\n",
       "discrep     3\n",
       "they        3\n",
       "certain     1\n",
       "tentat      1\n",
       "conj        1\n",
       "article     1\n",
       "negate      1\n",
       "quant       1\n",
       "Name: feature, dtype: int64"
      ]
     },
     "execution_count": 5,
     "metadata": {},
     "output_type": "execute_result"
    }
   ],
   "source": [
    "signif['feature'].value_counts()"
   ]
  },
  {
   "cell_type": "code",
   "execution_count": 6,
   "metadata": {},
   "outputs": [
    {
     "data": {
      "text/plain": [
       "Flyers               8\n",
       "canes                3\n",
       "FloridaPanthers      2\n",
       "NewYorkIslanders     2\n",
       "SanJoseSharks        2\n",
       "Coyotes              2\n",
       "DetroitRedWings      2\n",
       "penguins             1\n",
       "sabres               1\n",
       "caps                 1\n",
       "TampaBayLightning    1\n",
       "ColoradoAvalanche    1\n",
       "canucks              1\n",
       "hawks                1\n",
       "Postleftanarchism    1\n",
       "BostonBruins         1\n",
       "DallasStars          1\n",
       "BlueJackets          1\n",
       "collapse             1\n",
       "EdmontonOilers       1\n",
       "AnaheimDucks         1\n",
       "Name: subreddit, dtype: int64"
      ]
     },
     "execution_count": 6,
     "metadata": {},
     "output_type": "execute_result"
    }
   ],
   "source": [
    "signif['subreddit'].value_counts()"
   ]
  },
  {
   "cell_type": "code",
   "execution_count": 7,
   "metadata": {},
   "outputs": [
    {
     "data": {
      "text/plain": [
       "298.0    8\n",
       "301.0    3\n",
       "250.0    2\n",
       "127.0    2\n",
       "254.0    2\n",
       "110.0    2\n",
       "172.0    2\n",
       "270.0    2\n",
       "146.0    1\n",
       "233.0    1\n",
       "100.0    1\n",
       "141.0    1\n",
       "139.0    1\n",
       "196.0    1\n",
       "138.0    1\n",
       "209.0    1\n",
       "163.0    1\n",
       "193.0    1\n",
       "169.0    1\n",
       "221.0    1\n",
       "Name: number_of_turns, dtype: int64"
      ]
     },
     "execution_count": 7,
     "metadata": {},
     "output_type": "execute_result"
    }
   ],
   "source": [
    "signif['number_of_turns'].value_counts()"
   ]
  },
  {
   "cell_type": "markdown",
   "metadata": {
    "collapsed": true
   },
   "source": [
    "## For Politics:"
   ]
  },
  {
   "cell_type": "code",
   "execution_count": 8,
   "metadata": {},
   "outputs": [
    {
     "name": "stdout",
     "output_type": "stream",
     "text": [
      "(756, 6)\n"
     ]
    },
    {
     "data": {
      "text/html": [
       "<div>\n",
       "<style>\n",
       "    .dataframe thead tr:only-child th {\n",
       "        text-align: right;\n",
       "    }\n",
       "\n",
       "    .dataframe thead th {\n",
       "        text-align: left;\n",
       "    }\n",
       "\n",
       "    .dataframe tbody tr th {\n",
       "        vertical-align: top;\n",
       "    }\n",
       "</style>\n",
       "<table border=\"1\" class=\"dataframe\">\n",
       "  <thead>\n",
       "    <tr style=\"text-align: right;\">\n",
       "      <th></th>\n",
       "      <th>subreddit</th>\n",
       "      <th>feature</th>\n",
       "      <th>cohesion_value</th>\n",
       "      <th>oddsratio</th>\n",
       "      <th>pvalue</th>\n",
       "      <th>number_of_turns</th>\n",
       "    </tr>\n",
       "  </thead>\n",
       "  <tbody>\n",
       "    <tr>\n",
       "      <th>0</th>\n",
       "      <td>Agorism</td>\n",
       "      <td>pronoun</td>\n",
       "      <td>0.013699</td>\n",
       "      <td>1.165744</td>\n",
       "      <td>0.678395</td>\n",
       "      <td>292.0</td>\n",
       "    </tr>\n",
       "    <tr>\n",
       "      <th>1</th>\n",
       "      <td>Agorism</td>\n",
       "      <td>ppron</td>\n",
       "      <td>0.034247</td>\n",
       "      <td>1.227680</td>\n",
       "      <td>0.362509</td>\n",
       "      <td>292.0</td>\n",
       "    </tr>\n",
       "    <tr>\n",
       "      <th>2</th>\n",
       "      <td>Agorism</td>\n",
       "      <td>i</td>\n",
       "      <td>0.041096</td>\n",
       "      <td>1.179224</td>\n",
       "      <td>0.362090</td>\n",
       "      <td>292.0</td>\n",
       "    </tr>\n",
       "    <tr>\n",
       "      <th>3</th>\n",
       "      <td>Agorism</td>\n",
       "      <td>we</td>\n",
       "      <td>0.041096</td>\n",
       "      <td>1.549647</td>\n",
       "      <td>0.139006</td>\n",
       "      <td>292.0</td>\n",
       "    </tr>\n",
       "    <tr>\n",
       "      <th>4</th>\n",
       "      <td>Agorism</td>\n",
       "      <td>you</td>\n",
       "      <td>0.027397</td>\n",
       "      <td>1.118699</td>\n",
       "      <td>0.557906</td>\n",
       "      <td>292.0</td>\n",
       "    </tr>\n",
       "  </tbody>\n",
       "</table>\n",
       "</div>"
      ],
      "text/plain": [
       "  subreddit  feature  cohesion_value  oddsratio    pvalue  number_of_turns\n",
       "0   Agorism  pronoun        0.013699   1.165744  0.678395            292.0\n",
       "1   Agorism    ppron        0.034247   1.227680  0.362509            292.0\n",
       "2   Agorism        i        0.041096   1.179224  0.362090            292.0\n",
       "3   Agorism       we        0.041096   1.549647  0.139006            292.0\n",
       "4   Agorism      you        0.027397   1.118699  0.557906            292.0"
      ]
     },
     "execution_count": 8,
     "metadata": {},
     "output_type": "execute_result"
    }
   ],
   "source": [
    "import pandas as pd\n",
    "\n",
    "pol_path = '/Users/sunyambagga/Desktop/FINAL_COHESION_Political_stats_April30_2016_April30_2017.csv'\n",
    "\n",
    "df = pd.read_csv(pol_path)\n",
    "print df.shape\n",
    "df.head()"
   ]
  },
  {
   "cell_type": "code",
   "execution_count": 9,
   "metadata": {},
   "outputs": [
    {
     "data": {
      "text/plain": [
       "subreddit           42\n",
       "feature             18\n",
       "cohesion_value     529\n",
       "oddsratio          618\n",
       "pvalue             555\n",
       "number_of_turns     40\n",
       "dtype: int64"
      ]
     },
     "execution_count": 9,
     "metadata": {},
     "output_type": "execute_result"
    }
   ],
   "source": [
    "df.nunique()"
   ]
  },
  {
   "cell_type": "code",
   "execution_count": 10,
   "metadata": {},
   "outputs": [
    {
     "name": "stdout",
     "output_type": "stream",
     "text": [
      "(76, 6)\n"
     ]
    },
    {
     "data": {
      "text/html": [
       "<div>\n",
       "<style>\n",
       "    .dataframe thead tr:only-child th {\n",
       "        text-align: right;\n",
       "    }\n",
       "\n",
       "    .dataframe thead th {\n",
       "        text-align: left;\n",
       "    }\n",
       "\n",
       "    .dataframe tbody tr th {\n",
       "        vertical-align: top;\n",
       "    }\n",
       "</style>\n",
       "<table border=\"1\" class=\"dataframe\">\n",
       "  <thead>\n",
       "    <tr style=\"text-align: right;\">\n",
       "      <th></th>\n",
       "      <th>subreddit</th>\n",
       "      <th>feature</th>\n",
       "      <th>cohesion_value</th>\n",
       "      <th>oddsratio</th>\n",
       "      <th>pvalue</th>\n",
       "      <th>number_of_turns</th>\n",
       "    </tr>\n",
       "  </thead>\n",
       "  <tbody>\n",
       "    <tr>\n",
       "      <th>5</th>\n",
       "      <td>Agorism</td>\n",
       "      <td>shehe</td>\n",
       "      <td>0.054795</td>\n",
       "      <td>4.447970</td>\n",
       "      <td>0.001998</td>\n",
       "      <td>292.0</td>\n",
       "    </tr>\n",
       "    <tr>\n",
       "      <th>23</th>\n",
       "      <td>alltheleft</td>\n",
       "      <td>shehe</td>\n",
       "      <td>0.102564</td>\n",
       "      <td>3.192893</td>\n",
       "      <td>0.000473</td>\n",
       "      <td>234.0</td>\n",
       "    </tr>\n",
       "    <tr>\n",
       "      <th>39</th>\n",
       "      <td>Anarchism</td>\n",
       "      <td>we</td>\n",
       "      <td>0.081218</td>\n",
       "      <td>1.867364</td>\n",
       "      <td>0.037346</td>\n",
       "      <td>197.0</td>\n",
       "    </tr>\n",
       "    <tr>\n",
       "      <th>42</th>\n",
       "      <td>Anarchism</td>\n",
       "      <td>they</td>\n",
       "      <td>0.091371</td>\n",
       "      <td>1.953226</td>\n",
       "      <td>0.021322</td>\n",
       "      <td>197.0</td>\n",
       "    </tr>\n",
       "    <tr>\n",
       "      <th>75</th>\n",
       "      <td>Anarcho_Capitalism</td>\n",
       "      <td>we</td>\n",
       "      <td>0.073710</td>\n",
       "      <td>2.795060</td>\n",
       "      <td>0.000196</td>\n",
       "      <td>407.0</td>\n",
       "    </tr>\n",
       "  </tbody>\n",
       "</table>\n",
       "</div>"
      ],
      "text/plain": [
       "             subreddit feature  cohesion_value  oddsratio    pvalue  \\\n",
       "5              Agorism   shehe        0.054795   4.447970  0.001998   \n",
       "23          alltheleft   shehe        0.102564   3.192893  0.000473   \n",
       "39           Anarchism      we        0.081218   1.867364  0.037346   \n",
       "42           Anarchism    they        0.091371   1.953226  0.021322   \n",
       "75  Anarcho_Capitalism      we        0.073710   2.795060  0.000196   \n",
       "\n",
       "    number_of_turns  \n",
       "5             292.0  \n",
       "23            234.0  \n",
       "39            197.0  \n",
       "42            197.0  \n",
       "75            407.0  "
      ]
     },
     "execution_count": 10,
     "metadata": {},
     "output_type": "execute_result"
    }
   ],
   "source": [
    "signif = df.loc[df['pvalue']<0.05]\n",
    "print signif.shape\n",
    "signif.head()"
   ]
  },
  {
   "cell_type": "code",
   "execution_count": 11,
   "metadata": {},
   "outputs": [
    {
     "data": {
      "text/plain": [
       "subreddit          25\n",
       "feature            11\n",
       "cohesion_value     74\n",
       "oddsratio          76\n",
       "pvalue             76\n",
       "number_of_turns    24\n",
       "dtype: int64"
      ]
     },
     "execution_count": 11,
     "metadata": {},
     "output_type": "execute_result"
    }
   ],
   "source": [
    "signif.nunique()"
   ]
  },
  {
   "cell_type": "code",
   "execution_count": 12,
   "metadata": {},
   "outputs": [
    {
     "data": {
      "text/plain": [
       "shehe      21\n",
       "they       13\n",
       "we         13\n",
       "discrep     9\n",
       "you         4\n",
       "differ      3\n",
       "negate      3\n",
       "certain     3\n",
       "quant       3\n",
       "tentat      2\n",
       "i           2\n",
       "Name: feature, dtype: int64"
      ]
     },
     "execution_count": 12,
     "metadata": {},
     "output_type": "execute_result"
    }
   ],
   "source": [
    "signif['feature'].value_counts()"
   ]
  },
  {
   "cell_type": "code",
   "execution_count": 13,
   "metadata": {},
   "outputs": [
    {
     "data": {
      "text/plain": [
       "DebateaCommunist        11\n",
       "SocialDemocracy          9\n",
       "moderatepolitics         5\n",
       "monarchism               4\n",
       "conservatives            4\n",
       "DebateCommunism          4\n",
       "Anarcho_Capitalism       4\n",
       "progressive              4\n",
       "Objectivism              4\n",
       "libertarianmeme          3\n",
       "LibertarianDebates       3\n",
       "Anarchy101               3\n",
       "Anarchism                2\n",
       "leftcommunism            2\n",
       "democrats                2\n",
       "Republican               2\n",
       "NeutralPolitics          2\n",
       "Liberal                  1\n",
       "LibertarianSocialism     1\n",
       "republicans              1\n",
       "GreenParty               1\n",
       "Conservative             1\n",
       "new_right                1\n",
       "alltheleft               1\n",
       "Agorism                  1\n",
       "Name: subreddit, dtype: int64"
      ]
     },
     "execution_count": 13,
     "metadata": {},
     "output_type": "execute_result"
    }
   ],
   "source": [
    "signif['subreddit'].value_counts()"
   ]
  },
  {
   "cell_type": "code",
   "execution_count": 14,
   "metadata": {},
   "outputs": [
    {
     "data": {
      "text/plain": [
       "801.0    11\n",
       "598.0     9\n",
       "485.0     5\n",
       "451.0     4\n",
       "484.0     4\n",
       "407.0     4\n",
       "400.0     4\n",
       "651.0     4\n",
       "552.0     4\n",
       "197.0     3\n",
       "338.0     3\n",
       "272.0     3\n",
       "387.0     3\n",
       "403.0     2\n",
       "265.0     2\n",
       "198.0     2\n",
       "253.0     2\n",
       "344.0     1\n",
       "381.0     1\n",
       "346.0     1\n",
       "185.0     1\n",
       "168.0     1\n",
       "234.0     1\n",
       "292.0     1\n",
       "Name: number_of_turns, dtype: int64"
      ]
     },
     "execution_count": 14,
     "metadata": {},
     "output_type": "execute_result"
    }
   ],
   "source": [
    "signif['number_of_turns'].value_counts()"
   ]
  },
  {
   "cell_type": "code",
   "execution_count": null,
   "metadata": {
    "collapsed": true
   },
   "outputs": [],
   "source": []
  }
 ],
 "metadata": {
  "kernelspec": {
   "display_name": "Python 2",
   "language": "python",
   "name": "python2"
  },
  "language_info": {
   "codemirror_mode": {
    "name": "ipython",
    "version": 2
   },
   "file_extension": ".py",
   "mimetype": "text/x-python",
   "name": "python",
   "nbconvert_exporter": "python",
   "pygments_lexer": "ipython2",
   "version": "2.7.13"
  }
 },
 "nbformat": 4,
 "nbformat_minor": 2
}
